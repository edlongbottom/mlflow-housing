{
 "cells": [
  {
   "cell_type": "markdown",
   "id": "592a9d59",
   "metadata": {},
   "source": [
    "# Boston Housing: model development with MLFlow\n",
    "\n",
    "This notebook is intended to demonstrate the use of MLFlow for tracking experiments, comparing parameters and results, storing models and packaging code. A follow-on notebook will show how MLFlow can also be used to deploy the model as a prediction web service. \n",
    "\n",
    "The Boston housing dataset has been used as a simple use case for the trialling of various supervised regression techniques to find a strong performer while MLFlow tracks the experiments and packages the resultant models.  \n",
    "\n",
    "**Goal:** *build a model for predicting house prices using the Boston housing dataset.* "
   ]
  },
  {
   "cell_type": "markdown",
   "id": "794b5087",
   "metadata": {},
   "source": [
    "### Import libraries"
   ]
  },
  {
   "cell_type": "code",
   "execution_count": 23,
   "id": "4a447611",
   "metadata": {},
   "outputs": [],
   "source": [
    "import pandas as pd\n",
    "import numpy as np\n",
    "\n",
    "from sklearn.metrics import mean_squared_error, mean_absolute_error, r2_score\n",
    "from sklearn.model_selection import train_test_split, GridSearchCV\n",
    "\n",
    "from sklearn.preprocessing import StandardScaler, PolynomialFeatures\n",
    "from sklearn.pipeline import Pipeline, make_pipeline\n",
    "from sklearn.compose import ColumnTransformer, make_column_selector, make_column_transformer\n",
    "\n",
    "from sklearn.dummy import DummyRegressor\n",
    "from sklearn.linear_model import LinearRegression, Ridge, Lasso\n",
    "\n",
    "import mlflow\n",
    "import mlflow.sklearn\n",
    "import joblib\n",
    "from urllib.parse import urlparse\n",
    "\n",
    "import logging\n",
    "import warnings"
   ]
  },
  {
   "cell_type": "markdown",
   "id": "a39e1d0f",
   "metadata": {},
   "source": [
    "### Configure MLFlow\n",
    "\n",
    "Configure MLFlow to store entities in a local SQLite database and artefacts in local file storage.\n",
    " - Entities: runs, parameters, metrics, tags, metadata etc. \n",
    " - Artefacts: models, files, images etc."
   ]
  },
  {
   "cell_type": "code",
   "execution_count": 3,
   "id": "b90ef9f4",
   "metadata": {},
   "outputs": [],
   "source": [
    "# set mlflow to store entities in a SQLite database (artefacts stored in ./mlruns folder)\n",
    "mlflow.set_tracking_uri('sqlite:///mlruns.db')\n",
    "\n",
    "# alternatively set mlflow to use a file storage location for both artefacts and entities\n",
    "#mlflow.set_tracking_uri('file:///C:/Users/eddlo/Python/Projects/MLFlow-housing/mlflow-housing/experimentation/mlruns')"
   ]
  },
  {
   "cell_type": "markdown",
   "id": "cf207e62",
   "metadata": {},
   "source": [
    "**Create an experiment in MLFlow**\n",
    "\n",
    "Set an experiment to track our model development for the housing dataset. You can either:\n",
    " - Create a new experiment\n",
    " - Set the experiment ID to an existing experiment"
   ]
  },
  {
   "cell_type": "code",
   "execution_count": 4,
   "id": "4997d643",
   "metadata": {},
   "outputs": [
    {
     "name": "stderr",
     "output_type": "stream",
     "text": [
      "2021/12/26 14:12:34 INFO mlflow.store.db.utils: Creating initial MLflow database tables...\n",
      "2021/12/26 14:12:34 INFO mlflow.store.db.utils: Updating database tables\n",
      "INFO  [alembic.runtime.migration] Context impl SQLiteImpl.\n",
      "INFO  [alembic.runtime.migration] Will assume non-transactional DDL.\n",
      "INFO  [alembic.runtime.migration] Running upgrade  -> 451aebb31d03, add metric step\n",
      "INFO  [alembic.runtime.migration] Running upgrade 451aebb31d03 -> 90e64c465722, migrate user column to tags\n",
      "INFO  [alembic.runtime.migration] Running upgrade 90e64c465722 -> 181f10493468, allow nulls for metric values\n",
      "INFO  [alembic.runtime.migration] Running upgrade 181f10493468 -> df50e92ffc5e, Add Experiment Tags Table\n",
      "INFO  [alembic.runtime.migration] Running upgrade df50e92ffc5e -> 7ac759974ad8, Update run tags with larger limit\n",
      "INFO  [alembic.runtime.migration] Running upgrade 7ac759974ad8 -> 89d4b8295536, create latest metrics table\n",
      "INFO  [89d4b8295536_create_latest_metrics_table_py] Migration complete!\n",
      "INFO  [alembic.runtime.migration] Running upgrade 89d4b8295536 -> 2b4d017a5e9b, add model registry tables to db\n",
      "INFO  [2b4d017a5e9b_add_model_registry_tables_to_db_py] Adding registered_models and model_versions tables to database.\n",
      "INFO  [2b4d017a5e9b_add_model_registry_tables_to_db_py] Migration complete!\n",
      "INFO  [alembic.runtime.migration] Running upgrade 2b4d017a5e9b -> cfd24bdc0731, Update run status constraint with killed\n",
      "INFO  [alembic.runtime.migration] Running upgrade cfd24bdc0731 -> 0a8213491aaa, drop_duplicate_killed_constraint\n",
      "WARNI [0a8213491aaa_drop_duplicate_killed_constraint_py] Failed to drop check constraint. Dropping check constraints may not be supported by your SQL database. Exception content: No support for ALTER of constraints in SQLite dialectPlease refer to the batch mode feature which allows for SQLite migrations using a copy-and-move strategy.\n",
      "INFO  [alembic.runtime.migration] Running upgrade 0a8213491aaa -> 728d730b5ebd, add registered model tags table\n",
      "INFO  [alembic.runtime.migration] Running upgrade 728d730b5ebd -> 27a6a02d2cf1, add model version tags table\n",
      "INFO  [alembic.runtime.migration] Running upgrade 27a6a02d2cf1 -> 84291f40a231, add run_link to model_version\n",
      "INFO  [alembic.runtime.migration] Running upgrade 84291f40a231 -> a8c4a736bde6, allow nulls for run_id\n",
      "INFO  [alembic.runtime.migration] Running upgrade a8c4a736bde6 -> 39d1c3be5f05, add_is_nan_constraint_for_metrics_tables_if_necessary\n",
      "INFO  [alembic.runtime.migration] Running upgrade 39d1c3be5f05 -> c48cb773bb87, reset_default_value_for_is_nan_in_metrics_table_for_mysql\n",
      "INFO  [alembic.runtime.migration] Context impl SQLiteImpl.\n",
      "INFO  [alembic.runtime.migration] Will assume non-transactional DDL.\n"
     ]
    },
    {
     "name": "stdout",
     "output_type": "stream",
     "text": [
      "Name: Boston Housing\n",
      "Experiment_id: 1\n",
      "Artifact Location: ./mlruns/1\n"
     ]
    }
   ],
   "source": [
    "warnings.filterwarnings(\"ignore\")\n",
    "\n",
    "# create a new experiment\n",
    "experiment_id = mlflow.create_experiment(name=\"Boston Housing\")\n",
    "\n",
    "# use an existing experiment\n",
    "#experiment_id='1'\n",
    "\n",
    "# print out config details for the experiment\n",
    "experiment = mlflow.get_experiment(experiment_id)\n",
    "mlflow.set_experiment(experiment_id=experiment_id)\n",
    "\n",
    "print(f\"Name: {experiment.name}\")\n",
    "print(f\"Experiment_id: {experiment.experiment_id}\")\n",
    "print(f\"Artifact Location: {experiment.artifact_location}\")"
   ]
  },
  {
   "cell_type": "markdown",
   "id": "833d9c52",
   "metadata": {},
   "source": [
    "#### Start up MLFlow UI to review runs as you go\n",
    "\n",
    "Start up a local tracking server and point it towards the SQLite db (for entities) and local file storage (for artefacts) using the mlflow CLI. Then, navigate to http://localhost:5000/ in a browser to see the MLFlow UI and compare models. "
   ]
  },
  {
   "cell_type": "code",
   "execution_count": 5,
   "id": "0629c2e6",
   "metadata": {},
   "outputs": [
    {
     "name": "stderr",
     "output_type": "stream",
     "text": [
      "'mlflow' is not recognized as an internal or external command,\n",
      "operable program or batch file.\n"
     ]
    }
   ],
   "source": [
    "!mlflow server --backend-store-uri 'sqlite:///mlruns.db' --default-artifact-root ./mlruns --host 0.0.0.0"
   ]
  },
  {
   "cell_type": "markdown",
   "id": "b85efd41",
   "metadata": {},
   "source": [
    "### Feature engineering"
   ]
  },
  {
   "cell_type": "markdown",
   "id": "6565577e",
   "metadata": {},
   "source": [
    "**Load data**"
   ]
  },
  {
   "cell_type": "code",
   "execution_count": 5,
   "id": "adc8173f",
   "metadata": {},
   "outputs": [],
   "source": [
    "cols=['CRIM','ZN','INDUS','CHAS','NOX','RM','AGE','DIS','RAD','TAX','PTRATIO','B','LSTAT','MEDV']\n",
    "df = pd.read_csv('datasets\\housing.csv',sep=' ',skipinitialspace=True,header=None,names=cols)"
   ]
  },
  {
   "cell_type": "code",
   "execution_count": 6,
   "id": "363dc8b5",
   "metadata": {},
   "outputs": [
    {
     "data": {
      "text/html": [
       "<div>\n",
       "<style scoped>\n",
       "    .dataframe tbody tr th:only-of-type {\n",
       "        vertical-align: middle;\n",
       "    }\n",
       "\n",
       "    .dataframe tbody tr th {\n",
       "        vertical-align: top;\n",
       "    }\n",
       "\n",
       "    .dataframe thead th {\n",
       "        text-align: right;\n",
       "    }\n",
       "</style>\n",
       "<table border=\"1\" class=\"dataframe\">\n",
       "  <thead>\n",
       "    <tr style=\"text-align: right;\">\n",
       "      <th></th>\n",
       "      <th>CRIM</th>\n",
       "      <th>ZN</th>\n",
       "      <th>INDUS</th>\n",
       "      <th>CHAS</th>\n",
       "      <th>NOX</th>\n",
       "      <th>RM</th>\n",
       "      <th>AGE</th>\n",
       "      <th>DIS</th>\n",
       "      <th>RAD</th>\n",
       "      <th>TAX</th>\n",
       "      <th>PTRATIO</th>\n",
       "      <th>B</th>\n",
       "      <th>LSTAT</th>\n",
       "      <th>MEDV</th>\n",
       "    </tr>\n",
       "  </thead>\n",
       "  <tbody>\n",
       "    <tr>\n",
       "      <th>0</th>\n",
       "      <td>0.00632</td>\n",
       "      <td>18.0</td>\n",
       "      <td>2.31</td>\n",
       "      <td>0</td>\n",
       "      <td>0.538</td>\n",
       "      <td>6.575</td>\n",
       "      <td>65.2</td>\n",
       "      <td>4.0900</td>\n",
       "      <td>1</td>\n",
       "      <td>296.0</td>\n",
       "      <td>15.3</td>\n",
       "      <td>396.90</td>\n",
       "      <td>4.98</td>\n",
       "      <td>24.0</td>\n",
       "    </tr>\n",
       "    <tr>\n",
       "      <th>1</th>\n",
       "      <td>0.02731</td>\n",
       "      <td>0.0</td>\n",
       "      <td>7.07</td>\n",
       "      <td>0</td>\n",
       "      <td>0.469</td>\n",
       "      <td>6.421</td>\n",
       "      <td>78.9</td>\n",
       "      <td>4.9671</td>\n",
       "      <td>2</td>\n",
       "      <td>242.0</td>\n",
       "      <td>17.8</td>\n",
       "      <td>396.90</td>\n",
       "      <td>9.14</td>\n",
       "      <td>21.6</td>\n",
       "    </tr>\n",
       "    <tr>\n",
       "      <th>2</th>\n",
       "      <td>0.02729</td>\n",
       "      <td>0.0</td>\n",
       "      <td>7.07</td>\n",
       "      <td>0</td>\n",
       "      <td>0.469</td>\n",
       "      <td>7.185</td>\n",
       "      <td>61.1</td>\n",
       "      <td>4.9671</td>\n",
       "      <td>2</td>\n",
       "      <td>242.0</td>\n",
       "      <td>17.8</td>\n",
       "      <td>392.83</td>\n",
       "      <td>4.03</td>\n",
       "      <td>34.7</td>\n",
       "    </tr>\n",
       "    <tr>\n",
       "      <th>3</th>\n",
       "      <td>0.03237</td>\n",
       "      <td>0.0</td>\n",
       "      <td>2.18</td>\n",
       "      <td>0</td>\n",
       "      <td>0.458</td>\n",
       "      <td>6.998</td>\n",
       "      <td>45.8</td>\n",
       "      <td>6.0622</td>\n",
       "      <td>3</td>\n",
       "      <td>222.0</td>\n",
       "      <td>18.7</td>\n",
       "      <td>394.63</td>\n",
       "      <td>2.94</td>\n",
       "      <td>33.4</td>\n",
       "    </tr>\n",
       "    <tr>\n",
       "      <th>4</th>\n",
       "      <td>0.06905</td>\n",
       "      <td>0.0</td>\n",
       "      <td>2.18</td>\n",
       "      <td>0</td>\n",
       "      <td>0.458</td>\n",
       "      <td>7.147</td>\n",
       "      <td>54.2</td>\n",
       "      <td>6.0622</td>\n",
       "      <td>3</td>\n",
       "      <td>222.0</td>\n",
       "      <td>18.7</td>\n",
       "      <td>396.90</td>\n",
       "      <td>5.33</td>\n",
       "      <td>36.2</td>\n",
       "    </tr>\n",
       "  </tbody>\n",
       "</table>\n",
       "</div>"
      ],
      "text/plain": [
       "      CRIM    ZN  INDUS  CHAS    NOX     RM   AGE     DIS  RAD    TAX  \\\n",
       "0  0.00632  18.0   2.31     0  0.538  6.575  65.2  4.0900    1  296.0   \n",
       "1  0.02731   0.0   7.07     0  0.469  6.421  78.9  4.9671    2  242.0   \n",
       "2  0.02729   0.0   7.07     0  0.469  7.185  61.1  4.9671    2  242.0   \n",
       "3  0.03237   0.0   2.18     0  0.458  6.998  45.8  6.0622    3  222.0   \n",
       "4  0.06905   0.0   2.18     0  0.458  7.147  54.2  6.0622    3  222.0   \n",
       "\n",
       "   PTRATIO       B  LSTAT  MEDV  \n",
       "0     15.3  396.90   4.98  24.0  \n",
       "1     17.8  396.90   9.14  21.6  \n",
       "2     17.8  392.83   4.03  34.7  \n",
       "3     18.7  394.63   2.94  33.4  \n",
       "4     18.7  396.90   5.33  36.2  "
      ]
     },
     "execution_count": 6,
     "metadata": {},
     "output_type": "execute_result"
    }
   ],
   "source": [
    "df.head()"
   ]
  },
  {
   "cell_type": "markdown",
   "id": "c125f62e",
   "metadata": {},
   "source": [
    "**Data cleaning**\n",
    "\n",
    "Filter dataset and extract useful features based on learnings in EDA"
   ]
  },
  {
   "cell_type": "code",
   "execution_count": 10,
   "id": "c08c37c7",
   "metadata": {},
   "outputs": [],
   "source": [
    "# filter for MEDV is not equal to 50\n",
    "sel_df = df[df['MEDV'] != 50].copy()"
   ]
  },
  {
   "cell_type": "code",
   "execution_count": 11,
   "id": "2d812723",
   "metadata": {},
   "outputs": [
    {
     "data": {
      "text/html": [
       "<div>\n",
       "<style scoped>\n",
       "    .dataframe tbody tr th:only-of-type {\n",
       "        vertical-align: middle;\n",
       "    }\n",
       "\n",
       "    .dataframe tbody tr th {\n",
       "        vertical-align: top;\n",
       "    }\n",
       "\n",
       "    .dataframe thead th {\n",
       "        text-align: right;\n",
       "    }\n",
       "</style>\n",
       "<table border=\"1\" class=\"dataframe\">\n",
       "  <thead>\n",
       "    <tr style=\"text-align: right;\">\n",
       "      <th></th>\n",
       "      <th>CRIM</th>\n",
       "      <th>ZN</th>\n",
       "      <th>INDUS</th>\n",
       "      <th>CHAS</th>\n",
       "      <th>NOX</th>\n",
       "      <th>RM</th>\n",
       "      <th>AGE</th>\n",
       "      <th>DIS</th>\n",
       "      <th>RAD</th>\n",
       "      <th>TAX</th>\n",
       "      <th>PTRATIO</th>\n",
       "      <th>B</th>\n",
       "      <th>LSTAT</th>\n",
       "      <th>MEDV</th>\n",
       "    </tr>\n",
       "  </thead>\n",
       "  <tbody>\n",
       "    <tr>\n",
       "      <th>0</th>\n",
       "      <td>0.00632</td>\n",
       "      <td>18.0</td>\n",
       "      <td>2.31</td>\n",
       "      <td>0</td>\n",
       "      <td>0.538</td>\n",
       "      <td>6.575</td>\n",
       "      <td>65.2</td>\n",
       "      <td>4.0900</td>\n",
       "      <td>1</td>\n",
       "      <td>296.0</td>\n",
       "      <td>15.3</td>\n",
       "      <td>396.90</td>\n",
       "      <td>4.98</td>\n",
       "      <td>24.0</td>\n",
       "    </tr>\n",
       "    <tr>\n",
       "      <th>1</th>\n",
       "      <td>0.02731</td>\n",
       "      <td>0.0</td>\n",
       "      <td>7.07</td>\n",
       "      <td>0</td>\n",
       "      <td>0.469</td>\n",
       "      <td>6.421</td>\n",
       "      <td>78.9</td>\n",
       "      <td>4.9671</td>\n",
       "      <td>2</td>\n",
       "      <td>242.0</td>\n",
       "      <td>17.8</td>\n",
       "      <td>396.90</td>\n",
       "      <td>9.14</td>\n",
       "      <td>21.6</td>\n",
       "    </tr>\n",
       "    <tr>\n",
       "      <th>2</th>\n",
       "      <td>0.02729</td>\n",
       "      <td>0.0</td>\n",
       "      <td>7.07</td>\n",
       "      <td>0</td>\n",
       "      <td>0.469</td>\n",
       "      <td>7.185</td>\n",
       "      <td>61.1</td>\n",
       "      <td>4.9671</td>\n",
       "      <td>2</td>\n",
       "      <td>242.0</td>\n",
       "      <td>17.8</td>\n",
       "      <td>392.83</td>\n",
       "      <td>4.03</td>\n",
       "      <td>34.7</td>\n",
       "    </tr>\n",
       "    <tr>\n",
       "      <th>3</th>\n",
       "      <td>0.03237</td>\n",
       "      <td>0.0</td>\n",
       "      <td>2.18</td>\n",
       "      <td>0</td>\n",
       "      <td>0.458</td>\n",
       "      <td>6.998</td>\n",
       "      <td>45.8</td>\n",
       "      <td>6.0622</td>\n",
       "      <td>3</td>\n",
       "      <td>222.0</td>\n",
       "      <td>18.7</td>\n",
       "      <td>394.63</td>\n",
       "      <td>2.94</td>\n",
       "      <td>33.4</td>\n",
       "    </tr>\n",
       "    <tr>\n",
       "      <th>4</th>\n",
       "      <td>0.06905</td>\n",
       "      <td>0.0</td>\n",
       "      <td>2.18</td>\n",
       "      <td>0</td>\n",
       "      <td>0.458</td>\n",
       "      <td>7.147</td>\n",
       "      <td>54.2</td>\n",
       "      <td>6.0622</td>\n",
       "      <td>3</td>\n",
       "      <td>222.0</td>\n",
       "      <td>18.7</td>\n",
       "      <td>396.90</td>\n",
       "      <td>5.33</td>\n",
       "      <td>36.2</td>\n",
       "    </tr>\n",
       "  </tbody>\n",
       "</table>\n",
       "</div>"
      ],
      "text/plain": [
       "      CRIM    ZN  INDUS  CHAS    NOX     RM   AGE     DIS  RAD    TAX  \\\n",
       "0  0.00632  18.0   2.31     0  0.538  6.575  65.2  4.0900    1  296.0   \n",
       "1  0.02731   0.0   7.07     0  0.469  6.421  78.9  4.9671    2  242.0   \n",
       "2  0.02729   0.0   7.07     0  0.469  7.185  61.1  4.9671    2  242.0   \n",
       "3  0.03237   0.0   2.18     0  0.458  6.998  45.8  6.0622    3  222.0   \n",
       "4  0.06905   0.0   2.18     0  0.458  7.147  54.2  6.0622    3  222.0   \n",
       "\n",
       "   PTRATIO       B  LSTAT  MEDV  \n",
       "0     15.3  396.90   4.98  24.0  \n",
       "1     17.8  396.90   9.14  21.6  \n",
       "2     17.8  392.83   4.03  34.7  \n",
       "3     18.7  394.63   2.94  33.4  \n",
       "4     18.7  396.90   5.33  36.2  "
      ]
     },
     "execution_count": 11,
     "metadata": {},
     "output_type": "execute_result"
    }
   ],
   "source": [
    "sel_df.head()"
   ]
  },
  {
   "cell_type": "markdown",
   "id": "d4f006e0",
   "metadata": {},
   "source": [
    "**Feature selection and train-test split**\n",
    "\n",
    "Choose features based on knowledge gained through EDA.\n",
    "\n",
    "Split the data, holding out 20% for final evaluation. The remaining 80% will be used for training and hyperameter tuning with cross-validation."
   ]
  },
  {
   "cell_type": "code",
   "execution_count": 12,
   "id": "5e2343ce",
   "metadata": {},
   "outputs": [],
   "source": [
    "# include all features in X and use pipeline in next step to only keep valuable features\n",
    "#X_cols = ['INDUS','RM','TAX','PTRATIO','LSTAT']\n",
    "X_cols = ['CRIM','ZN','INDUS','CHAS','NOX','RM','AGE','DIS','RAD','TAX','PTRATIO','B','LSTAT']\n",
    "y_col = 'MEDV'\n",
    "\n",
    "X = sel_df[X_cols].copy()\n",
    "y = sel_df[[y_col]].copy()\n",
    "\n",
    "# train-test split the data\n",
    "X_train, X_test, y_train, y_test = train_test_split(X, y, test_size=0.2, random_state=0)"
   ]
  },
  {
   "cell_type": "markdown",
   "id": "afbf936b",
   "metadata": {},
   "source": [
    "**Data pre-processing**\n",
    "\n",
    "Looking ahead, we must ensure any new data input to the model has been pre-processed in the same way as for our train and test sets. This includes scaling it and generating polynomial features (where polynomial features have been used).\n",
    "\n",
    "To include these data transforms as part of our model, sklearn's *pipelines* can be used. Data pre-processing steps are combined with an estimator into a pipeline. The pipeline is fit to the training data, and then can be applied to test / inference data. \n",
    "\n",
    "First initialise a pipeline and scale our chosen features using standard scaler. Other columns will be discarded."
   ]
  },
  {
   "cell_type": "code",
   "execution_count": 18,
   "id": "f63dd038",
   "metadata": {},
   "outputs": [
    {
     "data": {
      "text/plain": [
       "ColumnTransformer(transformers=[('pipeline',\n",
       "                                 Pipeline(steps=[('standardscaler',\n",
       "                                                  StandardScaler())]),\n",
       "                                 ['INDUS', 'RM', 'TAX', 'PTRATIO', 'LSTAT'])])"
      ]
     },
     "execution_count": 18,
     "metadata": {},
     "output_type": "execute_result"
    }
   ],
   "source": [
    "# create a pipeline that scales the selected columns (discard other columns)\n",
    "scaler_pipe = make_column_transformer(\n",
    "    (make_pipeline(StandardScaler()), ['INDUS','RM','TAX','PTRATIO','LSTAT']))\n",
    "scaler_pipe.fit(X_train)"
   ]
  },
  {
   "cell_type": "code",
   "execution_count": 20,
   "id": "69908009",
   "metadata": {},
   "outputs": [],
   "source": [
    "# apply the pipeline to train and test sets\n",
    "X_train_scaled = scaler_pipe.transform(X_train) \n",
    "X_test_scaled = scaler_pipe.transform(X_test)"
   ]
  },
  {
   "cell_type": "code",
   "execution_count": 41,
   "id": "432ef789",
   "metadata": {},
   "outputs": [
    {
     "data": {
      "text/plain": [
       "array([[-0.47855844, -0.92824862, -0.5775791 , -1.59680549,  2.40109038],\n",
       "       [-1.19389525,  0.92133058, -0.85092188, -1.40517905, -1.11727385],\n",
       "       [ 1.00279695, -0.63237924,  1.53191405,  0.79852495,  1.29612619],\n",
       "       ...,\n",
       "       [-0.16867569, -0.31119482,  0.14143124, -0.35123366, -0.37262407],\n",
       "       [-0.61757126, -0.29695512, -1.04107337, -0.30332705,  0.82842396],\n",
       "       [-1.03171362, -0.31277701, -0.66671262, -0.92611296, -0.39947103]])"
      ]
     },
     "execution_count": 41,
     "metadata": {},
     "output_type": "execute_result"
    }
   ],
   "source": [
    "X_train_scaled"
   ]
  },
  {
   "cell_type": "markdown",
   "id": "09d5135d",
   "metadata": {},
   "source": [
    "### Train, validate and test models\n",
    "\n",
    "First create a function for consistent testing and evaluation throughout. R2 score will be used to evaluate the models."
   ]
  },
  {
   "cell_type": "code",
   "execution_count": 29,
   "id": "944f3ab2",
   "metadata": {},
   "outputs": [],
   "source": [
    "# create a function for training models and logging results with mlflow\n",
    "def model_train_val(name, feature_pipe, model, params, X_train, y_train, X_test, y_test, cv=4, scoring='r2'):\n",
    "    \n",
    "    with mlflow.start_run(run_name = name):\n",
    "        \n",
    "        # perform data pre-processing\n",
    "        X_train_processed = feature_pipe.transform(X_train) \n",
    "        X_test_processed = feature_pipe.transform(X_test)\n",
    "        \n",
    "        # run gridsearch through dict of hyperparams and with k=4 CV folds \n",
    "        clf = GridSearchCV(model, param_grid=params, cv=cv, scoring=scoring, return_train_score=True)\n",
    "        clf.fit(X_train_processed, y_train.values.ravel())\n",
    "        print(f'Best params: {clf.best_params_}')\n",
    "        print(f'Best CV score: {clf.best_score_}')\n",
    "        print(f\"Training set score: {clf.cv_results_['mean_train_score'][clf.best_index_]:2.3}\")\n",
    "        print(f'Test set score: {clf.best_estimator_.score(X_test_processed,y_test):2.3}')\n",
    "        \n",
    "        #log metrics and parameters used\n",
    "        for k,v in clf.best_params_.items():\n",
    "            mlflow.log_param(k,v)\n",
    "        mlflow.log_metric(\"r2_train\", clf.cv_results_['mean_train_score'][clf.best_index_])\n",
    "        mlflow.log_metric(\"r2_test\", clf.best_estimator_.score(X_test_processed,y_test))\n",
    "        \n",
    "        # construct prediction pipeline \n",
    "        predict_pipe = make_pipeline(feature_pipe, clf.best_estimator_)\n",
    "        \n",
    "        # register model\n",
    "        tracking_url_type_store = urlparse(mlflow.get_tracking_uri()).scheme\n",
    "        if tracking_url_type_store != \"file\":\n",
    "            mlflow.sklearn.log_model(predict_pipe, \"model\", registered_model_name=name+'_pipeline')\n",
    "        else:\n",
    "            mlflow.sklearn.log_model(predict_pipe, \"model\")"
   ]
  },
  {
   "cell_type": "markdown",
   "id": "dc0cc75c",
   "metadata": {},
   "source": [
    "**Dummy regressor**\n",
    "\n",
    "Create a dummy model to benchmark the score."
   ]
  },
  {
   "cell_type": "code",
   "execution_count": 24,
   "id": "4e254264",
   "metadata": {},
   "outputs": [
    {
     "name": "stdout",
     "output_type": "stream",
     "text": [
      "Best params: {}\n",
      "Best CV score: -0.0058795234512875605\n",
      "Training set score: 0.0\n",
      "Test set score: -0.0158\n"
     ]
    },
    {
     "name": "stderr",
     "output_type": "stream",
     "text": [
      "Successfully registered model 'DummyRegressor (mean)_pipeline'.\n",
      "2021/12/26 14:28:55 INFO mlflow.tracking._model_registry.client: Waiting up to 300 seconds for model version to finish creation.                     Model name: DummyRegressor (mean)_pipeline, version 1\n",
      "Created version '1' of model 'DummyRegressor (mean)_pipeline'.\n"
     ]
    }
   ],
   "source": [
    "# set up dummy regressor\n",
    "dummy_model = DummyRegressor(strategy='mean')\n",
    "name=\"DummyRegressor (mean)\"\n",
    "params = {}\n",
    "model_train_val(name, scaler_pipe, dummy_model, params, X_train, y_train, X_test, y_test)"
   ]
  },
  {
   "cell_type": "markdown",
   "id": "e29e6d2e",
   "metadata": {},
   "source": [
    "**Simple linear regression**"
   ]
  },
  {
   "cell_type": "code",
   "execution_count": 30,
   "id": "53695a1b",
   "metadata": {},
   "outputs": [
    {
     "name": "stdout",
     "output_type": "stream",
     "text": [
      "Best params: {}\n",
      "Best CV score: 0.7018324502631647\n",
      "Training set score: 0.734\n",
      "Test set score: 0.72\n"
     ]
    },
    {
     "name": "stderr",
     "output_type": "stream",
     "text": [
      "Successfully registered model 'SimpleLinearRegression_pipeline'.\n",
      "2021/12/26 14:33:38 INFO mlflow.tracking._model_registry.client: Waiting up to 300 seconds for model version to finish creation.                     Model name: SimpleLinearRegression_pipeline, version 1\n",
      "Created version '1' of model 'SimpleLinearRegression_pipeline'.\n"
     ]
    }
   ],
   "source": [
    "linreg_model = LinearRegression()\n",
    "name=\"SimpleLinearRegression\"\n",
    "params = {}\n",
    "model_train_val(name, scaler_pipe, linreg_model, params, X_train, y_train, X_test, y_test)"
   ]
  },
  {
   "cell_type": "markdown",
   "id": "4daa808e",
   "metadata": {},
   "source": [
    "**Ridge regression**"
   ]
  },
  {
   "cell_type": "code",
   "execution_count": 31,
   "id": "1fcb1cf3",
   "metadata": {},
   "outputs": [
    {
     "name": "stdout",
     "output_type": "stream",
     "text": [
      "Best params: {'alpha': 8}\n",
      "Best CV score: 0.7040355395274798\n",
      "Training set score: 0.734\n",
      "Test set score: 0.719\n"
     ]
    },
    {
     "name": "stderr",
     "output_type": "stream",
     "text": [
      "Successfully registered model 'RidgeRegression_pipeline'.\n",
      "2021/12/26 14:34:29 INFO mlflow.tracking._model_registry.client: Waiting up to 300 seconds for model version to finish creation.                     Model name: RidgeRegression_pipeline, version 1\n",
      "Created version '1' of model 'RidgeRegression_pipeline'.\n"
     ]
    }
   ],
   "source": [
    "ridge_model = Ridge()\n",
    "name = \"RidgeRegression\"\n",
    "params = {'alpha':[0.01,0.02,0.04,0.08,0.16,0.32,0.64,1,2,4,8]}\n",
    "model_train_val(name, scaler_pipe, ridge_model, params, X_train, y_train, X_test, y_test)"
   ]
  },
  {
   "cell_type": "markdown",
   "id": "ac98da06",
   "metadata": {},
   "source": [
    "**Lasso regression**"
   ]
  },
  {
   "cell_type": "code",
   "execution_count": 32,
   "id": "65582c5d",
   "metadata": {},
   "outputs": [
    {
     "name": "stdout",
     "output_type": "stream",
     "text": [
      "Best params: {'alpha': 0.08}\n",
      "Best CV score: 0.7021768334235038\n",
      "Training set score: 0.734\n",
      "Test set score: 0.717\n"
     ]
    },
    {
     "name": "stderr",
     "output_type": "stream",
     "text": [
      "Successfully registered model 'LassoRegression_pipeline'.\n",
      "2021/12/26 14:34:40 INFO mlflow.tracking._model_registry.client: Waiting up to 300 seconds for model version to finish creation.                     Model name: LassoRegression_pipeline, version 1\n",
      "Created version '1' of model 'LassoRegression_pipeline'.\n"
     ]
    }
   ],
   "source": [
    "lasso_model = Lasso()\n",
    "name = \"LassoRegression\"\n",
    "params = {'alpha':[0.01,0.02,0.04,0.08,0.16,0.32,0.64,1,2,4,8]}\n",
    "model_train_val(name, scaler_pipe, lasso_model, params, X_train, y_train, X_test, y_test)"
   ]
  },
  {
   "cell_type": "markdown",
   "id": "651031d8",
   "metadata": {},
   "source": [
    "**Polynomial regression**"
   ]
  },
  {
   "cell_type": "code",
   "execution_count": 33,
   "id": "3c7e4f8f",
   "metadata": {},
   "outputs": [
    {
     "name": "stdout",
     "output_type": "stream",
     "text": [
      "----------------------------------\n",
      "Degree: 2\n",
      "Best params: {}\n",
      "Best CV score: 0.8586957466635642\n",
      "Training set score: 0.876\n",
      "Test set score: 0.795\n"
     ]
    },
    {
     "name": "stderr",
     "output_type": "stream",
     "text": [
      "Successfully registered model 'PolynomialRegression(2 degrees)_pipeline'.\n",
      "2021/12/26 14:34:55 INFO mlflow.tracking._model_registry.client: Waiting up to 300 seconds for model version to finish creation.                     Model name: PolynomialRegression(2 degrees)_pipeline, version 1\n",
      "Created version '1' of model 'PolynomialRegression(2 degrees)_pipeline'.\n"
     ]
    },
    {
     "name": "stdout",
     "output_type": "stream",
     "text": [
      "----------------------------------\n",
      "Degree: 3\n",
      "Best params: {}\n",
      "Best CV score: 0.7271421260699754\n",
      "Training set score: 0.882\n",
      "Test set score: 0.783\n"
     ]
    },
    {
     "name": "stderr",
     "output_type": "stream",
     "text": [
      "Successfully registered model 'PolynomialRegression(3 degrees)_pipeline'.\n",
      "2021/12/26 14:34:59 INFO mlflow.tracking._model_registry.client: Waiting up to 300 seconds for model version to finish creation.                     Model name: PolynomialRegression(3 degrees)_pipeline, version 1\n",
      "Created version '1' of model 'PolynomialRegression(3 degrees)_pipeline'.\n"
     ]
    },
    {
     "name": "stdout",
     "output_type": "stream",
     "text": [
      "----------------------------------\n",
      "Degree: 4\n",
      "Best params: {}\n",
      "Best CV score: -7.988512820588891\n",
      "Training set score: 0.903\n",
      "Test set score: -1.12\n"
     ]
    },
    {
     "name": "stderr",
     "output_type": "stream",
     "text": [
      "Successfully registered model 'PolynomialRegression(4 degrees)_pipeline'.\n",
      "2021/12/26 14:35:04 INFO mlflow.tracking._model_registry.client: Waiting up to 300 seconds for model version to finish creation.                     Model name: PolynomialRegression(4 degrees)_pipeline, version 1\n",
      "Created version '1' of model 'PolynomialRegression(4 degrees)_pipeline'.\n"
     ]
    }
   ],
   "source": [
    "degrees = [2,3,4]\n",
    "for degree in degrees: \n",
    "\n",
    "    poly_pipe = make_pipeline(scaler_pipe, PolynomialFeatures(degree))\n",
    "    poly_pipe.fit(X_train)\n",
    "    \n",
    "    print(\"----------------------------------\")\n",
    "    print(f\"Degree: {degree}\")\n",
    "    name = f\"PolynomialRegression({degree} degrees)\"\n",
    "    poly_model = LinearRegression()\n",
    "    params={}\n",
    "    model_train_val(name, poly_pipe, poly_model, params, X_train, y_train, X_test, y_test)"
   ]
  },
  {
   "cell_type": "markdown",
   "id": "768ae619",
   "metadata": {},
   "source": [
    "**Polynomial regression with regularization**\n",
    "\n",
    "It looks like introducing higher order features improves the performance of the model. However, models are scoring higher on training than test sets (overfitting / high variance). So lets introduce some regularization with the higher order features. "
   ]
  },
  {
   "cell_type": "code",
   "execution_count": 34,
   "id": "f424af02",
   "metadata": {},
   "outputs": [
    {
     "name": "stdout",
     "output_type": "stream",
     "text": [
      "----------------------------------\n",
      "Degree: 2\n",
      "Best params: {'alpha': 0.02}\n",
      "Best CV score: 0.8605507380562232\n",
      "Training set score: 0.876\n",
      "Test set score: 0.792\n"
     ]
    },
    {
     "name": "stderr",
     "output_type": "stream",
     "text": [
      "Successfully registered model 'PolynomialLassoRegression(2 degrees)_pipeline'.\n",
      "2021/12/26 14:35:15 INFO mlflow.tracking._model_registry.client: Waiting up to 300 seconds for model version to finish creation.                     Model name: PolynomialLassoRegression(2 degrees)_pipeline, version 1\n",
      "Created version '1' of model 'PolynomialLassoRegression(2 degrees)_pipeline'.\n"
     ]
    },
    {
     "name": "stdout",
     "output_type": "stream",
     "text": [
      "----------------------------------\n",
      "Degree: 3\n",
      "Best params: {'alpha': 0.04}\n",
      "Best CV score: 0.8614797776232865\n",
      "Training set score: 0.89\n",
      "Test set score: 0.838\n"
     ]
    },
    {
     "name": "stderr",
     "output_type": "stream",
     "text": [
      "Successfully registered model 'PolynomialLassoRegression(3 degrees)_pipeline'.\n",
      "2021/12/26 14:35:20 INFO mlflow.tracking._model_registry.client: Waiting up to 300 seconds for model version to finish creation.                     Model name: PolynomialLassoRegression(3 degrees)_pipeline, version 1\n",
      "Created version '1' of model 'PolynomialLassoRegression(3 degrees)_pipeline'.\n"
     ]
    },
    {
     "name": "stdout",
     "output_type": "stream",
     "text": [
      "----------------------------------\n",
      "Degree: 4\n",
      "Best params: {'alpha': 0.08}\n",
      "Best CV score: 0.8632205550168695\n",
      "Training set score: 0.893\n",
      "Test set score: 0.817\n"
     ]
    },
    {
     "name": "stderr",
     "output_type": "stream",
     "text": [
      "Successfully registered model 'PolynomialLassoRegression(4 degrees)_pipeline'.\n",
      "2021/12/26 14:35:24 INFO mlflow.tracking._model_registry.client: Waiting up to 300 seconds for model version to finish creation.                     Model name: PolynomialLassoRegression(4 degrees)_pipeline, version 1\n",
      "Created version '1' of model 'PolynomialLassoRegression(4 degrees)_pipeline'.\n"
     ]
    },
    {
     "name": "stdout",
     "output_type": "stream",
     "text": [
      "----------------------------------\n",
      "Degree: 5\n",
      "Best params: {'alpha': 0.08}\n",
      "Best CV score: 0.8040759681883326\n",
      "Training set score: 0.9\n",
      "Test set score: 0.787\n"
     ]
    },
    {
     "name": "stderr",
     "output_type": "stream",
     "text": [
      "Successfully registered model 'PolynomialLassoRegression(5 degrees)_pipeline'.\n",
      "2021/12/26 14:35:30 INFO mlflow.tracking._model_registry.client: Waiting up to 300 seconds for model version to finish creation.                     Model name: PolynomialLassoRegression(5 degrees)_pipeline, version 1\n",
      "Created version '1' of model 'PolynomialLassoRegression(5 degrees)_pipeline'.\n"
     ]
    }
   ],
   "source": [
    "degrees = [2,3,4,5]\n",
    "for degree in degrees: \n",
    "    \n",
    "    poly_pipe = make_pipeline(scaler_pipe, PolynomialFeatures(degree))\n",
    "    poly_pipe.fit(X_train)\n",
    "    \n",
    "    print(\"----------------------------------\")\n",
    "    print(f\"Degree: {degree}\")\n",
    "    name = f\"PolynomialLassoRegression({degree} degrees)\"\n",
    "    poly_model = Lasso()\n",
    "    params={'alpha':[0.01,0.02,0.04,0.08,0.16,0.32,0.64,1]}\n",
    "    model_train_val(name, poly_pipe, lasso_model, params, X_train, y_train, X_test, y_test)"
   ]
  },
  {
   "cell_type": "code",
   "execution_count": 35,
   "id": "dd821416",
   "metadata": {},
   "outputs": [
    {
     "name": "stdout",
     "output_type": "stream",
     "text": [
      "----------------------------------\n",
      "Degree: 2\n",
      "Best params: {'alpha': 0.02}\n",
      "Best CV score: 0.8605507380562232\n",
      "Training set score: 0.876\n",
      "Test set score: 0.792\n"
     ]
    },
    {
     "name": "stderr",
     "output_type": "stream",
     "text": [
      "Successfully registered model 'PolynomialRidgeRegression(2 degrees)_pipeline'.\n",
      "2021/12/26 14:35:43 INFO mlflow.tracking._model_registry.client: Waiting up to 300 seconds for model version to finish creation.                     Model name: PolynomialRidgeRegression(2 degrees)_pipeline, version 1\n",
      "Created version '1' of model 'PolynomialRidgeRegression(2 degrees)_pipeline'.\n"
     ]
    },
    {
     "name": "stdout",
     "output_type": "stream",
     "text": [
      "----------------------------------\n",
      "Degree: 3\n",
      "Best params: {'alpha': 0.04}\n",
      "Best CV score: 0.8614797776232865\n",
      "Training set score: 0.89\n",
      "Test set score: 0.838\n"
     ]
    },
    {
     "name": "stderr",
     "output_type": "stream",
     "text": [
      "Successfully registered model 'PolynomialRidgeRegression(3 degrees)_pipeline'.\n",
      "2021/12/26 14:35:49 INFO mlflow.tracking._model_registry.client: Waiting up to 300 seconds for model version to finish creation.                     Model name: PolynomialRidgeRegression(3 degrees)_pipeline, version 1\n",
      "Created version '1' of model 'PolynomialRidgeRegression(3 degrees)_pipeline'.\n"
     ]
    },
    {
     "name": "stdout",
     "output_type": "stream",
     "text": [
      "----------------------------------\n",
      "Degree: 4\n",
      "Best params: {'alpha': 0.08}\n",
      "Best CV score: 0.8632205550168695\n",
      "Training set score: 0.893\n",
      "Test set score: 0.817\n"
     ]
    },
    {
     "name": "stderr",
     "output_type": "stream",
     "text": [
      "Successfully registered model 'PolynomialRidgeRegression(4 degrees)_pipeline'.\n",
      "2021/12/26 14:35:53 INFO mlflow.tracking._model_registry.client: Waiting up to 300 seconds for model version to finish creation.                     Model name: PolynomialRidgeRegression(4 degrees)_pipeline, version 1\n",
      "Created version '1' of model 'PolynomialRidgeRegression(4 degrees)_pipeline'.\n"
     ]
    },
    {
     "name": "stdout",
     "output_type": "stream",
     "text": [
      "----------------------------------\n",
      "Degree: 5\n",
      "Best params: {'alpha': 0.08}\n",
      "Best CV score: 0.8040759681883326\n",
      "Training set score: 0.9\n",
      "Test set score: 0.787\n"
     ]
    },
    {
     "name": "stderr",
     "output_type": "stream",
     "text": [
      "Successfully registered model 'PolynomialRidgeRegression(5 degrees)_pipeline'.\n",
      "2021/12/26 14:35:58 INFO mlflow.tracking._model_registry.client: Waiting up to 300 seconds for model version to finish creation.                     Model name: PolynomialRidgeRegression(5 degrees)_pipeline, version 1\n",
      "Created version '1' of model 'PolynomialRidgeRegression(5 degrees)_pipeline'.\n"
     ]
    }
   ],
   "source": [
    "degrees = [2,3,4,5]\n",
    "for degree in degrees: \n",
    "    \n",
    "    poly_pipe = make_pipeline(scaler_pipe, PolynomialFeatures(degree))\n",
    "    poly_pipe.fit(X_train)\n",
    "    \n",
    "    print(\"----------------------------------\")\n",
    "    print(f\"Degree: {degree}\")\n",
    "    name = f\"PolynomialRidgeRegression({degree} degrees)\"\n",
    "    poly_model = Ridge()\n",
    "    params={'alpha':[0.01,0.02,0.04,0.08,0.16,0.32,0.64,1]}\n",
    "    model_train_val(name, poly_pipe, lasso_model, params, X_train, y_train, X_test, y_test)"
   ]
  },
  {
   "cell_type": "markdown",
   "id": "335a3c79",
   "metadata": {},
   "source": [
    "### Clean up in MLFlow\n",
    "\n",
    "If you don't want to keep the experiment metadata or models, you can remove all MLFlow runs and experiments as a clean-up exercise."
   ]
  },
  {
   "cell_type": "code",
   "execution_count": 34,
   "id": "bc113823",
   "metadata": {},
   "outputs": [
    {
     "name": "stdout",
     "output_type": "stream",
     "text": [
      "\n"
     ]
    },
    {
     "data": {
      "text/plain": [
       "[<RunInfo: artifact_uri='./mlruns/2/0d5ac0d52e7d442c92477e8373884beb/artifacts', end_time=1640169301505, experiment_id='2', lifecycle_stage='active', run_id='0d5ac0d52e7d442c92477e8373884beb', run_uuid='0d5ac0d52e7d442c92477e8373884beb', start_time=1640169298060, status='FINISHED', user_id='eddlo'>,\n",
       " <RunInfo: artifact_uri='./mlruns/2/05e95941ba024ab395d0ab0648c018c7/artifacts', end_time=1640169298022, experiment_id='2', lifecycle_stage='active', run_id='05e95941ba024ab395d0ab0648c018c7', run_uuid='05e95941ba024ab395d0ab0648c018c7', start_time=1640169295078, status='FINISHED', user_id='eddlo'>,\n",
       " <RunInfo: artifact_uri='./mlruns/2/2ce79d559d0546dd91bd26a252b0ac78/artifacts', end_time=1640169295057, experiment_id='2', lifecycle_stage='active', run_id='2ce79d559d0546dd91bd26a252b0ac78', run_uuid='2ce79d559d0546dd91bd26a252b0ac78', start_time=1640169292270, status='FINISHED', user_id='eddlo'>,\n",
       " <RunInfo: artifact_uri='./mlruns/2/ace73a69b6614032b3b8d0c9518a29c2/artifacts', end_time=1640169292246, experiment_id='2', lifecycle_stage='active', run_id='ace73a69b6614032b3b8d0c9518a29c2', run_uuid='ace73a69b6614032b3b8d0c9518a29c2', start_time=1640169289668, status='FINISHED', user_id='eddlo'>,\n",
       " <RunInfo: artifact_uri='./mlruns/2/94b9439d13374a2f9336a5b9d1b9b8ae/artifacts', end_time=1640169284902, experiment_id='2', lifecycle_stage='active', run_id='94b9439d13374a2f9336a5b9d1b9b8ae', run_uuid='94b9439d13374a2f9336a5b9d1b9b8ae', start_time=1640169280430, status='FINISHED', user_id='eddlo'>,\n",
       " <RunInfo: artifact_uri='./mlruns/2/dac41d71fd094c4981fc1d9443f16620/artifacts', end_time=1640169280398, experiment_id='2', lifecycle_stage='active', run_id='dac41d71fd094c4981fc1d9443f16620', run_uuid='dac41d71fd094c4981fc1d9443f16620', start_time=1640169277097, status='FINISHED', user_id='eddlo'>,\n",
       " <RunInfo: artifact_uri='./mlruns/2/fe61aea437164a539f047ed63d8161c1/artifacts', end_time=1640169277073, experiment_id='2', lifecycle_stage='active', run_id='fe61aea437164a539f047ed63d8161c1', run_uuid='fe61aea437164a539f047ed63d8161c1', start_time=1640169274380, status='FINISHED', user_id='eddlo'>,\n",
       " <RunInfo: artifact_uri='./mlruns/2/85646fdae8ab46c78d93ead6dd4484a3/artifacts', end_time=1640169274365, experiment_id='2', lifecycle_stage='active', run_id='85646fdae8ab46c78d93ead6dd4484a3', run_uuid='85646fdae8ab46c78d93ead6dd4484a3', start_time=1640169271619, status='FINISHED', user_id='eddlo'>,\n",
       " <RunInfo: artifact_uri='./mlruns/2/478a81f203ef4e3ea54f41d1dbe00672/artifacts', end_time=1640169210798, experiment_id='2', lifecycle_stage='active', run_id='478a81f203ef4e3ea54f41d1dbe00672', run_uuid='478a81f203ef4e3ea54f41d1dbe00672', start_time=1640169207851, status='FINISHED', user_id='eddlo'>,\n",
       " <RunInfo: artifact_uri='./mlruns/2/3db6bbdfb3104affaef8bdbdeda86f22/artifacts', end_time=1640169207819, experiment_id='2', lifecycle_stage='active', run_id='3db6bbdfb3104affaef8bdbdeda86f22', run_uuid='3db6bbdfb3104affaef8bdbdeda86f22', start_time=1640169205321, status='FINISHED', user_id='eddlo'>,\n",
       " <RunInfo: artifact_uri='./mlruns/2/e1e14b5dcccf4401b52559917d9d3ce3/artifacts', end_time=1640169205289, experiment_id='2', lifecycle_stage='active', run_id='e1e14b5dcccf4401b52559917d9d3ce3', run_uuid='e1e14b5dcccf4401b52559917d9d3ce3', start_time=1640169202808, status='FINISHED', user_id='eddlo'>,\n",
       " <RunInfo: artifact_uri='./mlruns/2/b01bc95b1bac4a3089dce89625775f92/artifacts', end_time=1640169153202, experiment_id='2', lifecycle_stage='active', run_id='b01bc95b1bac4a3089dce89625775f92', run_uuid='b01bc95b1bac4a3089dce89625775f92', start_time=1640169150688, status='FINISHED', user_id='eddlo'>,\n",
       " <RunInfo: artifact_uri='./mlruns/2/66eca16d4bc647e688fc198ef397dca0/artifacts', end_time=1640169146114, experiment_id='2', lifecycle_stage='active', run_id='66eca16d4bc647e688fc198ef397dca0', run_uuid='66eca16d4bc647e688fc198ef397dca0', start_time=1640169143471, status='FINISHED', user_id='eddlo'>,\n",
       " <RunInfo: artifact_uri='./mlruns/2/b0aac9730ccd43f6a3a085cf3ffb0620/artifacts', end_time=1640168921799, experiment_id='2', lifecycle_stage='active', run_id='b0aac9730ccd43f6a3a085cf3ffb0620', run_uuid='b0aac9730ccd43f6a3a085cf3ffb0620', start_time=1640168919213, status='FINISHED', user_id='eddlo'>,\n",
       " <RunInfo: artifact_uri='./mlruns/2/f80ae9e2b1ed489e9439137f55765b55/artifacts', end_time=1640168593825, experiment_id='2', lifecycle_stage='active', run_id='f80ae9e2b1ed489e9439137f55765b55', run_uuid='f80ae9e2b1ed489e9439137f55765b55', start_time=1640168590663, status='FINISHED', user_id='eddlo'>]"
      ]
     },
     "execution_count": 34,
     "metadata": {},
     "output_type": "execute_result"
    }
   ],
   "source": [
    "mlflow.list_experiments()\n",
    "print()\n",
    "mlflow.list_run_infos(experiment_id=experiment_id)"
   ]
  },
  {
   "cell_type": "markdown",
   "id": "2f86b85f",
   "metadata": {},
   "source": [
    "Delete individual runs (pass run id)"
   ]
  },
  {
   "cell_type": "code",
   "execution_count": null,
   "id": "d667a55a",
   "metadata": {},
   "outputs": [],
   "source": [
    "mlflow.delete_run()"
   ]
  },
  {
   "cell_type": "markdown",
   "id": "bd079f70",
   "metadata": {},
   "source": [
    "Delete current experiment (send the experiment and associated runs to the trash folder). These need to be manually deleted from the trash folder if you want to create a new experiment with the same name / id."
   ]
  },
  {
   "cell_type": "code",
   "execution_count": 35,
   "id": "a86dccbd",
   "metadata": {},
   "outputs": [],
   "source": [
    "mlflow.delete_experiment(experiment_id=experiment_id)\n",
    "!mlflow experiments delete --experiment-id {experiment_id}"
   ]
  },
  {
   "cell_type": "markdown",
   "id": "8d5806be",
   "metadata": {},
   "source": [
    "Delete the default experiment that gets created when mlflow is imported"
   ]
  },
  {
   "cell_type": "code",
   "execution_count": 37,
   "id": "1f86b666",
   "metadata": {},
   "outputs": [],
   "source": [
    "mlflow.delete_experiment(experiment_id='0')\n",
    "!mlflow experiments delete --experiment-id 0"
   ]
  },
  {
   "cell_type": "code",
   "execution_count": null,
   "id": "8f83d5a8",
   "metadata": {},
   "outputs": [],
   "source": [
    "!mlflow gc --backend-store-uri 'sqlite:///mlruns.db'"
   ]
  }
 ],
 "metadata": {
  "kernelspec": {
   "display_name": "venv-housing",
   "language": "python",
   "name": "venv-housing"
  },
  "language_info": {
   "codemirror_mode": {
    "name": "ipython",
    "version": 3
   },
   "file_extension": ".py",
   "mimetype": "text/x-python",
   "name": "python",
   "nbconvert_exporter": "python",
   "pygments_lexer": "ipython3",
   "version": "3.9.6"
  }
 },
 "nbformat": 4,
 "nbformat_minor": 5
}
